{
 "cells": [
  {
   "cell_type": "markdown",
   "metadata": {
    "collapsed": true
   },
   "source": [
    "# Image Classification\n",
    "In this project, you'll classify images from the [CIFAR-10 dataset](https://www.cs.toronto.edu/~kriz/cifar.html).  The dataset consists of airplanes, dogs, cats, and other objects. You'll preprocess the images, then train a convolutional neural network on all the samples. The images need to be normalized and the labels need to be one-hot encoded.  You'll get to apply what you learned and build a convolutional, max pooling, dropout, and fully connected layers.  At the end, you'll get to see your neural network's predictions on the sample images.\n",
    "## Get the Data\n",
    "Run the following cell to download the [CIFAR-10 dataset for python](https://www.cs.toronto.edu/~kriz/cifar-10-python.tar.gz)."
   ]
  },
  {
   "cell_type": "code",
   "execution_count": 1,
   "metadata": {},
   "outputs": [
    {
     "name": "stderr",
     "output_type": "stream",
     "text": [
      "CIFAR-10 Dataset: 171MB [00:43, 3.91MB/s]                              "
     ]
    },
    {
     "name": "stdout",
     "output_type": "stream",
     "text": [
      "All files found!\n"
     ]
    },
    {
     "name": "stderr",
     "output_type": "stream",
     "text": [
      "\n"
     ]
    }
   ],
   "source": [
    "\"\"\"\n",
    "DON'T MODIFY ANYTHING IN THIS CELL THAT IS BELOW THIS LINE\n",
    "\"\"\"\n",
    "from urllib.request import urlretrieve\n",
    "from os.path import isfile, isdir\n",
    "from tqdm import tqdm\n",
    "import problem_unittests as tests\n",
    "import tarfile\n",
    "\n",
    "cifar10_dataset_folder_path = 'cifar-10-batches-py'\n",
    "\n",
    "# Use Floyd's cifar-10 dataset if present\n",
    "floyd_cifar10_location = '/cifar/cifar-10-python.tar.gz'\n",
    "if isfile(floyd_cifar10_location):\n",
    "    tar_gz_path = floyd_cifar10_location\n",
    "else:\n",
    "    tar_gz_path = 'cifar-10-python.tar.gz'\n",
    "\n",
    "class DLProgress(tqdm):\n",
    "    last_block = 0\n",
    "\n",
    "    def hook(self, block_num=1, block_size=1, total_size=None):\n",
    "        self.total = total_size\n",
    "        self.update((block_num - self.last_block) * block_size)\n",
    "        self.last_block = block_num\n",
    "\n",
    "if not isfile(tar_gz_path):\n",
    "    with DLProgress(unit='B', unit_scale=True, miniters=1, desc='CIFAR-10 Dataset') as pbar:\n",
    "        urlretrieve(\n",
    "            'https://www.cs.toronto.edu/~kriz/cifar-10-python.tar.gz',\n",
    "            tar_gz_path,\n",
    "            pbar.hook)\n",
    "\n",
    "if not isdir(cifar10_dataset_folder_path):\n",
    "    with tarfile.open(tar_gz_path) as tar:\n",
    "        tar.extractall()\n",
    "        tar.close()\n",
    "\n",
    "\n",
    "tests.test_folder_path(cifar10_dataset_folder_path)"
   ]
  },
  {
   "cell_type": "markdown",
   "metadata": {},
   "source": [
    "## Explore the Data\n",
    "The dataset is broken into batches to prevent your machine from running out of memory.  The CIFAR-10 dataset consists of 5 batches, named `data_batch_1`, `data_batch_2`, etc.. Each batch contains the labels and images that are one of the following:\n",
    "* airplane\n",
    "* automobile\n",
    "* bird\n",
    "* cat\n",
    "* deer\n",
    "* dog\n",
    "* frog\n",
    "* horse\n",
    "* ship\n",
    "* truck\n",
    "\n",
    "Understanding a dataset is part of making predictions on the data.  Play around with the code cell below by changing the `batch_id` and `sample_id`. The `batch_id` is the id for a batch (1-5). The `sample_id` is the id for a image and label pair in the batch.\n",
    "\n",
    "Ask yourself \"What are all possible labels?\", \"What is the range of values for the image data?\", \"Are the labels in order or random?\".  Answers to questions like these will help you preprocess the data and end up with better predictions."
   ]
  },
  {
   "cell_type": "code",
   "execution_count": 2,
   "metadata": {},
   "outputs": [
    {
     "name": "stdout",
     "output_type": "stream",
     "text": [
      "\n",
      "Stats of batch 5:\n",
      "Samples: 10000\n",
      "Label Counts: {0: 1014, 1: 1014, 2: 952, 3: 1016, 4: 997, 5: 1025, 6: 980, 7: 977, 8: 1003, 9: 1022}\n",
      "First 20 Labels: [1, 8, 5, 1, 5, 7, 4, 3, 8, 2, 7, 2, 0, 1, 5, 9, 6, 2, 0, 8]\n",
      "\n",
      "Example of Image 57:\n",
      "Image - Min Value: 0 Max Value: 214\n",
      "Image - Shape: (32, 32, 3)\n",
      "Label - Label Id: 3 Name: cat\n"
     ]
    },
    {
     "data": {
      "image/png": "[encoded data removed]",
      "text/plain": [
       "<matplotlib.figure.Figure at 0x7f28a90f6240>"
      ]
     },
     "metadata": {
      "image/png": {
       "height": 250,
       "width": 253
      }
     },
     "output_type": "display_data"
    }
   ],
   "source": [
    "%matplotlib inline\n",
    "%config InlineBackend.figure_format = 'retina'\n",
    "\n",
    "import helper\n",
    "import numpy as np\n",
    "\n",
    "# Explore the dataset\n",
    "batch_id = 5\n",
    "sample_id = 57\n",
    "helper.display_stats(cifar10_dataset_folder_path, batch_id, sample_id)"
   ]
  },
  {
   "cell_type": "markdown",
   "metadata": {},
   "source": [
    "## Implement Preprocess Functions\n",
    "### Normalize\n",
    "In the cell below, implement the `normalize` function to take in image data, `x`, and return it as a normalized Numpy array. The values should be in the range of 0 to 1, inclusive.  The return object should be the same shape as `x`."
   ]
  },
  {
   "cell_type": "code",
   "execution_count": 3,
   "metadata": {},
   "outputs": [
    {
     "name": "stdout",
     "output_type": "stream",
     "text": [
      "Tests Passed\n"
     ]
    }
   ],
   "source": [
    "def normalize(x):\n",
    "    \"\"\"\n",
    "    Normalize a list of sample image data in the range of 0 to 1\n",
    "    : x: List of image data.  The image shape is (32, 32, 3)\n",
    "    : return: Numpy array of normalize data\n",
    "    \"\"\"\n",
    "    # TODO: Implement Function\n",
    "    x = np.array(x)\n",
    "    x=x.astype('float32')\n",
    "    if x.max() > 1.:\n",
    "        x/=255.\n",
    "    return x\n",
    "\n",
    "\n",
    "\"\"\"\n",
    "DON'T MODIFY ANYTHING IN THIS CELL THAT IS BELOW THIS LINE\n",
    "\"\"\"\n",
    "tests.test_normalize(normalize)"
   ]
  },
  {
   "cell_type": "markdown",
   "metadata": {},
   "source": [
    "### One-hot encode\n",
    "Just like the previous code cell, you'll be implementing a function for preprocessing.  This time, you'll implement the `one_hot_encode` function. The input, `x`, are a list of labels.  Implement the function to return the list of labels as One-Hot encoded Numpy array.  The possible values for labels are 0 to 9. The one-hot encoding function should return the same encoding for each value between each call to `one_hot_encode`.  Make sure to save the map of encodings outside the function.\n",
    "\n",
    "Hint: Don't reinvent the wheel."
   ]
  },
  {
   "cell_type": "code",
   "execution_count": 4,
   "metadata": {},
   "outputs": [
    {
     "name": "stdout",
     "output_type": "stream",
     "text": [
      "Tests Passed\n"
     ]
    }
   ],
   "source": [
    "import numpy as np\n",
    "n_label = 10\n",
    "def one_hot_encode(x):\n",
    "    \"\"\"\n",
    "    One hot encode a list of sample labels. Return a one-hot encoded vector for each label.\n",
    "    : x: List of sample Labels\n",
    "    : return: Numpy array of one-hot encoded labels\n",
    "    \"\"\"\n",
    "    # TODO: Implement Function\n",
    "    return np.eye(n_label)[x]\n",
    "\n",
    "\n",
    "\"\"\"\n",
    "DON'T MODIFY ANYTHING IN THIS CELL THAT IS BELOW THIS LINE\n",
    "\"\"\"\n",
    "tests.test_one_hot_encode(one_hot_encode)"
   ]
  },
  {
   "cell_type": "code",
   "execution_count": 5,
   "metadata": {},
   "outputs": [
    {
     "data": {
      "text/plain": [
       "array([[ 0.,  1.,  0.,  0.,  0.,  0.,  0.,  0.,  0.,  0.],\n",
       "       [ 1.,  0.,  0.,  0.,  0.,  0.,  0.,  0.,  0.,  0.],\n",
       "       [ 0.,  0.,  0.,  0.,  1.,  0.,  0.,  0.,  0.,  0.],\n",
       "       [ 0.,  0.,  0.,  0.,  0.,  1.,  0.,  0.,  0.,  0.]])"
      ]
     },
     "execution_count": 5,
     "metadata": {},
     "output_type": "execute_result"
    }
   ],
   "source": [
    "# test\n",
    "one_hot_encode(list([1,0,4,5]))"
   ]
  },
  {
   "cell_type": "markdown",
   "metadata": {},
   "source": [
    "### Randomize Data\n",
    "As you saw from exploring the data above, the order of the samples are randomized.  It doesn't hurt to randomize it again, but you don't need to for this dataset."
   ]
  },
  {
   "cell_type": "markdown",
   "metadata": {},
   "source": [
    "## Preprocess all the data and save it\n",
    "Running the code cell below will preprocess all the CIFAR-10 data and save it to file. The code below also uses 10% of the training data for validation."
   ]
  },
  {
   "cell_type": "code",
   "execution_count": 6,
   "metadata": {
    "collapsed": true
   },
   "outputs": [],
   "source": [
    "\"\"\"\n",
    "DON'T MODIFY ANYTHING IN THIS CELL\n",
    "\"\"\"\n",
    "# Preprocess Training, Validation, and Testing Data\n",
    "helper.preprocess_and_save_data(cifar10_dataset_folder_path, normalize, one_hot_encode)"
   ]
  },
  {
   "cell_type": "markdown",
   "metadata": {},
   "source": [
    "# Check Point\n",
    "This is your first checkpoint.  If you ever decide to come back to this notebook or have to restart the notebook, you can start from here.  The preprocessed data has been saved to disk."
   ]
  },
  {
   "cell_type": "code",
   "execution_count": 7,
   "metadata": {
    "collapsed": true
   },
   "outputs": [],
   "source": [
    "\"\"\"\n",
    "DON'T MODIFY ANYTHING IN THIS CELL\n",
    "\"\"\"\n",
    "import pickle\n",
    "import problem_unittests as tests\n",
    "import helper\n",
    "\n",
    "# Load the Preprocessed Validation data\n",
    "valid_features, valid_labels = pickle.load(open('preprocess_validation.p', mode='rb'))"
   ]
  },
  {
   "cell_type": "markdown",
   "metadata": {},
   "source": [
    "## Build the network\n",
    "For the neural network, you'll build each layer into a function.  Most of the code you've seen has been outside of functions. To test your code more thoroughly, we require that you put each layer in a function.  This allows us to give you better feedback and test for simple mistakes using our unittests before you submit your project.\n",
    "\n",
    ">**Note:** If you're finding it hard to dedicate enough time for this course each week, we've provided a small shortcut to this part of the project. In the next couple of problems, you'll have the option to use classes from the [TensorFlow Layers](https://www.tensorflow.org/api_docs/python/tf/layers) or [TensorFlow Layers (contrib)](https://www.tensorflow.org/api_guides/python/contrib.layers) packages to build each layer, except the layers you build in the \"Convolutional and Max Pooling Layer\" section.  TF Layers is similar to Keras's and TFLearn's abstraction to layers, so it's easy to pickup.\n",
    "\n",
    ">However, if you would like to get the most out of this course, try to solve all the problems _without_ using anything from the TF Layers packages. You **can** still use classes from other packages that happen to have the same name as ones you find in TF Layers! For example, instead of using the TF Layers version of the `conv2d` class, [tf.layers.conv2d](https://www.tensorflow.org/api_docs/python/tf/layers/conv2d), you would want to use the TF Neural Network version of `conv2d`, [tf.nn.conv2d](https://www.tensorflow.org/api_docs/python/tf/nn/conv2d). \n",
    "\n",
    "Let's begin!\n",
    "\n",
    "### Input\n",
    "The neural network needs to read the image data, one-hot encoded labels, and dropout keep probability. Implement the following functions\n",
    "* Implement `neural_net_image_input`\n",
    " * Return a [TF Placeholder](https://www.tensorflow.org/api_docs/python/tf/placeholder)\n",
    " * Set the shape using `image_shape` with batch size set to `None`.\n",
    " * Name the TensorFlow placeholder \"x\" using the TensorFlow `name` parameter in the [TF Placeholder](https://www.tensorflow.org/api_docs/python/tf/placeholder).\n",
    "* Implement `neural_net_label_input`\n",
    " * Return a [TF Placeholder](https://www.tensorflow.org/api_docs/python/tf/placeholder)\n",
    " * Set the shape using `n_classes` with batch size set to `None`.\n",
    " * Name the TensorFlow placeholder \"y\" using the TensorFlow `name` parameter in the [TF Placeholder](https://www.tensorflow.org/api_docs/python/tf/placeholder).\n",
    "* Implement `neural_net_keep_prob_input`\n",
    " * Return a [TF Placeholder](https://www.tensorflow.org/api_docs/python/tf/placeholder) for dropout keep probability.\n",
    " * Name the TensorFlow placeholder \"keep_prob\" using the TensorFlow `name` parameter in the [TF Placeholder](https://www.tensorflow.org/api_docs/python/tf/placeholder).\n",
    "\n",
    "These names will be used at the end of the project to load your saved model.\n",
    "\n",
    "Note: `None` for shapes in TensorFlow allow for a dynamic size."
   ]
  },
  {
   "cell_type": "code",
   "execution_count": 8,
   "metadata": {},
   "outputs": [
    {
     "name": "stdout",
     "output_type": "stream",
     "text": [
      "Image Input Tests Passed.\n",
      "Label Input Tests Passed.\n",
      "Keep Prob Tests Passed.\n"
     ]
    }
   ],
   "source": [
    "import tensorflow as tf\n",
    "\n",
    "def neural_net_image_input(image_shape):\n",
    "    \"\"\"\n",
    "    Return a Tensor for a batch of image input\n",
    "    : image_shape: Shape of the images\n",
    "    : return: Tensor for image input.\n",
    "    \"\"\"\n",
    "    # TODO: Implement Function\n",
    "    return tf.placeholder(tf.float32,shape=[None, image_shape[0], image_shape[1], image_shape[2]],name='x')\n",
    "\n",
    "\n",
    "def neural_net_label_input(n_classes):\n",
    "    \"\"\"\n",
    "    Return a Tensor for a batch of label input\n",
    "    : n_classes: Number of classes\n",
    "    : return: Tensor for label input.\n",
    "    \"\"\"\n",
    "    # TODO: Implement Function\n",
    "    return tf.placeholder(tf.float32,shape=[None, n_classes],name='y')\n",
    "\n",
    "\n",
    "def neural_net_keep_prob_input():\n",
    "    \"\"\"\n",
    "    Return a Tensor for keep probability\n",
    "    : return: Tensor for keep probability.\n",
    "    \"\"\"\n",
    "    # TODO: Implement Function\n",
    "    return tf.placeholder(tf.float32, None, name='keep_prob')\n",
    "\n",
    "\"\"\"\n",
    "DON'T MODIFY ANYTHING IN THIS CELL THAT IS BELOW THIS LINE\n",
    "\"\"\"\n",
    "tf.reset_default_graph()\n",
    "tests.test_nn_image_inputs(neural_net_image_input)\n",
    "tests.test_nn_label_inputs(neural_net_label_input)\n",
    "tests.test_nn_keep_prob_inputs(neural_net_keep_prob_input)"
   ]
  },
  {
   "cell_type": "markdown",
   "metadata": {},
   "source": [
    "### Convolution and Max Pooling Layer\n",
    "Convolution layers have a lot of success with images. For this code cell, you should implement the function `conv2d_maxpool` to apply convolution then max pooling:\n",
    "* Create the weight and bias using `conv_ksize`, `conv_num_outputs` and the shape of `x_tensor`.\n",
    "* Apply a convolution to `x_tensor` using weight and `conv_strides`.\n",
    " * We recommend you use same padding, but you're welcome to use any padding.\n",
    "* Add bias\n",
    "* Add a nonlinear activation to the convolution.\n",
    "* Apply Max Pooling using `pool_ksize` and `pool_strides`.\n",
    " * We recommend you use same padding, but you're welcome to use any padding.\n",
    "\n",
    "**Note:** You **can't** use [TensorFlow Layers](https://www.tensorflow.org/api_docs/python/tf/layers) or [TensorFlow Layers (contrib)](https://www.tensorflow.org/api_guides/python/contrib.layers) for **this** layer, but you can still use TensorFlow's [Neural Network](https://www.tensorflow.org/api_docs/python/tf/nn) package. You may still use the shortcut option for all the **other** layers."
   ]
  },
  {
   "cell_type": "code",
   "execution_count": 9,
   "metadata": {},
   "outputs": [
    {
     "name": "stdout",
     "output_type": "stream",
     "text": [
      "Tests Passed\n"
     ]
    }
   ],
   "source": [
    "def conv2d_maxpool(x_tensor, conv_num_outputs, conv_ksize, conv_strides, pool_ksize, pool_strides):\n",
    "    \"\"\"\n",
    "    Apply convolution then max pooling to x_tensor\n",
    "    :param x_tensor: TensorFlow Tensor\n",
    "    :param conv_num_outputs: Number of outputs for the convolutional layer\n",
    "    :param conv_ksize: kernal size 2-D Tuple for the convolutional layer\n",
    "    :param conv_strides: Stride 2-D Tuple for convolution\n",
    "    :param pool_ksize: kernal size 2-D Tuple for pool\n",
    "    :param pool_strides: Stride 2-D Tuple for pool\n",
    "    : return: A tensor that represents convolution and max pooling of x_tensor\n",
    "    \"\"\"\n",
    "    # TODO: Implement Function\n",
    "    cov_weight = tf.Variable(tf.truncated_normal([\n",
    "        conv_ksize[0],\n",
    "        conv_ksize[1], \n",
    "        x_tensor.get_shape().as_list()[-1], \n",
    "        conv_num_outputs],\n",
    "     mean=0.0,\n",
    "     stddev=0.01))\n",
    "    cov_bias = tf.Variable(tf.zeros(conv_num_outputs))\n",
    "    \n",
    "    # Apply Convolution\n",
    "    conv_layer = tf.nn.conv2d(x_tensor, cov_weight, strides=[1, conv_strides[0], conv_strides[1], 1], padding='SAME')\n",
    "    \n",
    "    # Add bias\n",
    "    conv_layer = tf.nn.bias_add(conv_layer, cov_bias)\n",
    "    \n",
    "    # Apply activation function\n",
    "    conv_layer = tf.nn.relu(conv_layer)\n",
    "    \n",
    "    # Apply Max Pooling\n",
    "    conv_layer = tf.nn.max_pool(\n",
    "        conv_layer,\n",
    "        ksize=[1, pool_ksize[0], pool_ksize[1], 1],\n",
    "        strides=[1, pool_strides[0], pool_strides[1], 1],\n",
    "        padding='SAME')\n",
    "    \n",
    "    return conv_layer \n",
    "\n",
    "\n",
    "\"\"\"\n",
    "DON'T MODIFY ANYTHING IN THIS CELL THAT IS BELOW THIS LINE\n",
    "\"\"\"\n",
    "tests.test_con_pool(conv2d_maxpool)"
   ]
  },
  {
   "cell_type": "markdown",
   "metadata": {},
   "source": [
    "### Flatten Layer\n",
    "Implement the `flatten` function to change the dimension of `x_tensor` from a 4-D tensor to a 2-D tensor.  The output should be the shape (*Batch Size*, *Flattened Image Size*). Shortcut option: you can use classes from the [TensorFlow Layers](https://www.tensorflow.org/api_docs/python/tf/layers) or [TensorFlow Layers (contrib)](https://www.tensorflow.org/api_guides/python/contrib.layers) packages for this layer. For more of a challenge, only use other TensorFlow packages."
   ]
  },
  {
   "cell_type": "code",
   "execution_count": 10,
   "metadata": {},
   "outputs": [
    {
     "name": "stdout",
     "output_type": "stream",
     "text": [
      "Tests Passed\n"
     ]
    }
   ],
   "source": [
    "def flatten(x_tensor):\n",
    "    \"\"\"\n",
    "    Flatten x_tensor to (Batch Size, Flattened Image Size)\n",
    "    : x_tensor: A tensor of size (Batch Size, ...), where ... are the image dimensions.\n",
    "    : return: A tensor of size (Batch Size, Flattened Image Size).\n",
    "    \"\"\"\n",
    "    # TODO: Implement Function\n",
    "    x_flat = tf.reshape(x_tensor, [-1,np.prod(x_tensor.get_shape().as_list()[1:])])\n",
    "    return x_flat\n",
    "\n",
    "\n",
    "\"\"\"\n",
    "DON'T MODIFY ANYTHING IN THIS CELL THAT IS BELOW THIS LINE\n",
    "\"\"\"\n",
    "tests.test_flatten(flatten)"
   ]
  },
  {
   "cell_type": "markdown",
   "metadata": {},
   "source": [
    "### Fully-Connected Layer\n",
    "Implement the `fully_conn` function to apply a fully connected layer to `x_tensor` with the shape (*Batch Size*, *num_outputs*). Shortcut option: you can use classes from the [TensorFlow Layers](https://www.tensorflow.org/api_docs/python/tf/layers) or [TensorFlow Layers (contrib)](https://www.tensorflow.org/api_guides/python/contrib.layers) packages for this layer. For more of a challenge, only use other TensorFlow packages."
   ]
  },
  {
   "cell_type": "code",
   "execution_count": 11,
   "metadata": {},
   "outputs": [
    {
     "name": "stdout",
     "output_type": "stream",
     "text": [
      "Tests Passed\n"
     ]
    }
   ],
   "source": [
    "def fully_conn(x_tensor, num_outputs):\n",
    "    \"\"\"\n",
    "    Apply a fully connected layer to x_tensor using weight and bias\n",
    "    : x_tensor: A 2-D tensor where the first dimension is batch size.\n",
    "    : num_outputs: The number of output that the new tensor should be.\n",
    "    : return: A 2-D tensor where the second dimension is num_outputs.\n",
    "    \"\"\"\n",
    "    # TODO: Implement Function\n",
    "    weight_fc = tf.Variable(tf.truncated_normal(\n",
    "        [x_tensor.get_shape().as_list()[-1],num_outputs], \n",
    "        mean = 0.0, \n",
    "        stddev=0.1))\n",
    "    bias_fc = tf.Variable(tf.zeros([num_outputs]))\n",
    "   \n",
    "    fc = tf.add(tf.matmul(x_tensor, weight_fc), bias_fc)\n",
    "    fc = tf.nn.relu(fc)\n",
    "    return fc\n",
    "\n",
    "\n",
    "\"\"\"\n",
    "DON'T MODIFY ANYTHING IN THIS CELL THAT IS BELOW THIS LINE\n",
    "\"\"\"\n",
    "tests.test_fully_conn(fully_conn)"
   ]
  },
  {
   "cell_type": "markdown",
   "metadata": {},
   "source": [
    "### Output Layer\n",
    "Implement the `output` function to apply a fully connected layer to `x_tensor` with the shape (*Batch Size*, *num_outputs*). Shortcut option: you can use classes from the [TensorFlow Layers](https://www.tensorflow.org/api_docs/python/tf/layers) or [TensorFlow Layers (contrib)](https://www.tensorflow.org/api_guides/python/contrib.layers) packages for this layer. For more of a challenge, only use other TensorFlow packages.\n",
    "\n",
    "**Note:** Activation, softmax, or cross entropy should **not** be applied to this."
   ]
  },
  {
   "cell_type": "code",
   "execution_count": 12,
   "metadata": {},
   "outputs": [
    {
     "name": "stdout",
     "output_type": "stream",
     "text": [
      "Tests Passed\n"
     ]
    }
   ],
   "source": [
    "def output(x_tensor, num_outputs):\n",
    "    \"\"\"\n",
    "    Apply a output layer to x_tensor using weight and bias\n",
    "    : x_tensor: A 2-D tensor where the first dimension is batch size.\n",
    "    : num_outputs: The number of output that the new tensor should be.\n",
    "    : return: A 2-D tensor where the second dimension is num_outputs.\n",
    "    \"\"\"\n",
    "    # TODO: Implement Function\n",
    "    weight_out = tf.Variable(tf.truncated_normal(\n",
    "        [x_tensor.get_shape().as_list()[-1], num_outputs], \n",
    "        mean = 0.0,\n",
    "        stddev=0.1))\n",
    "    bias_out = tf.Variable(tf.zeros([num_outputs]))\n",
    "   \n",
    "    fc = tf.add(tf.matmul(x_tensor, weight_out), bias_out)\n",
    "    return fc\n",
    "\n",
    "\"\"\"\n",
    "DON'T MODIFY ANYTHING IN THIS CELL THAT IS BELOW THIS LINE\n",
    "\"\"\"\n",
    "tests.test_output(output)"
   ]
  },
  {
   "cell_type": "markdown",
   "metadata": {},
   "source": [
    "### Create Convolutional Model\n",
    "Implement the function `conv_net` to create a convolutional neural network model. The function takes in a batch of images, `x`, and outputs logits.  Use the layers you created above to create this model:\n",
    "\n",
    "* Apply 1, 2, or 3 Convolution and Max Pool layers\n",
    "* Apply a Flatten Layer\n",
    "* Apply 1, 2, or 3 Fully Connected Layers\n",
    "* Apply an Output Layer\n",
    "* Return the output\n",
    "* Apply [TensorFlow's Dropout](https://www.tensorflow.org/api_docs/python/tf/nn/dropout) to one or more layers in the model using `keep_prob`. "
   ]
  },
  {
   "cell_type": "code",
   "execution_count": 13,
   "metadata": {},
   "outputs": [
    {
     "name": "stdout",
     "output_type": "stream",
     "text": [
      "Neural Network Built!\n"
     ]
    }
   ],
   "source": [
    "def conv_net(x, keep_prob):\n",
    "    \"\"\"\n",
    "    Create a convolutional neural network model\n",
    "    : x: Placeholder tensor that holds image data.\n",
    "    : keep_prob: Placeholder tensor that hold dropout keep probability.\n",
    "    : return: Tensor that represents logits\n",
    "    \"\"\"\n",
    "    # TODO: Apply 1, 2, or 3 Convolution and Max Pool layers\n",
    "    #    Play around with different number of outputs, kernel size and stride\n",
    "    conv_num_outputs=32\n",
    "    conv_ksize=(4,4) \n",
    "    conv_strides=(1,1)\n",
    "    pool_ksize=(8,8)\n",
    "    pool_strides=(1,1)\n",
    "    \n",
    "    # Function Definition from Above:\n",
    "    fc = conv2d_maxpool(x, conv_num_outputs, conv_ksize, conv_strides, pool_ksize, pool_strides)\n",
    "    fc = tf.nn.dropout(fc, keep_prob)\n",
    "    \n",
    "    # TODO: Apply a Flatten Layer\n",
    "    # Function Definition from Above:\n",
    "    fc = flatten(fc)\n",
    "    \n",
    "\n",
    "    # TODO: Apply 1, 2, or 3 Fully Connected Layers\n",
    "    #    Play around with different number of outputs\n",
    "    fc_num_outputs = 256\n",
    "    # Function Definition from Above:\n",
    "    fc = fully_conn(fc, fc_num_outputs)\n",
    "    fc = tf.nn.dropout(fc, keep_prob)\n",
    "    \n",
    "    # TODO: Apply an Output Layer\n",
    "    #    Set this to the number of classes\n",
    "    num_outputs = 10\n",
    "    \n",
    "    # Function Definition from Above:\n",
    "    output_out = output(fc, num_outputs)\n",
    "    \n",
    "    \n",
    "    # TODO: return output\n",
    "    return output_out\n",
    "\n",
    "\n",
    "\"\"\"\n",
    "DON'T MODIFY ANYTHING IN THIS CELL THAT IS BELOW THIS LINE\n",
    "\"\"\"\n",
    "\n",
    "##############################\n",
    "## Build the Neural Network ##\n",
    "##############################\n",
    "\n",
    "# Remove previous weights, bias, inputs, etc..\n",
    "tf.reset_default_graph()\n",
    "\n",
    "# Inputs\n",
    "x = neural_net_image_input((32, 32, 3))\n",
    "y = neural_net_label_input(10)\n",
    "keep_prob = neural_net_keep_prob_input()\n",
    "\n",
    "# Model\n",
    "logits = conv_net(x, keep_prob)\n",
    "\n",
    "# Name logits Tensor, so that is can be loaded from disk after training\n",
    "logits = tf.identity(logits, name='logits')\n",
    "\n",
    "# Loss and Optimizer\n",
    "cost = tf.reduce_mean(tf.nn.softmax_cross_entropy_with_logits(logits=logits, labels=y))\n",
    "optimizer = tf.train.AdamOptimizer().minimize(cost)\n",
    "\n",
    "# Accuracy\n",
    "correct_pred = tf.equal(tf.argmax(logits, 1), tf.argmax(y, 1))\n",
    "accuracy = tf.reduce_mean(tf.cast(correct_pred, tf.float32), name='accuracy')\n",
    "\n",
    "tests.test_conv_net(conv_net)"
   ]
  },
  {
   "cell_type": "markdown",
   "metadata": {},
   "source": [
    "## Train the Neural Network\n",
    "### Single Optimization\n",
    "Implement the function `train_neural_network` to do a single optimization.  The optimization should use `optimizer` to optimize in `session` with a `feed_dict` of the following:\n",
    "* `x` for image input\n",
    "* `y` for labels\n",
    "* `keep_prob` for keep probability for dropout\n",
    "\n",
    "This function will be called for each batch, so `tf.global_variables_initializer()` has already been called.\n",
    "\n",
    "Note: Nothing needs to be returned. This function is only optimizing the neural network."
   ]
  },
  {
   "cell_type": "code",
   "execution_count": 14,
   "metadata": {},
   "outputs": [
    {
     "name": "stdout",
     "output_type": "stream",
     "text": [
      "Tests Passed\n"
     ]
    }
   ],
   "source": [
    "def train_neural_network(session, optimizer, keep_probability, feature_batch, label_batch):\n",
    "    \"\"\"\n",
    "    Optimize the session on a batch of images and labels\n",
    "    : session: Current TensorFlow session\n",
    "    : optimizer: TensorFlow optimizer function\n",
    "    : keep_probability: keep probability\n",
    "    : feature_batch: Batch of Numpy image data\n",
    "    : label_batch: Batch of Numpy label data\n",
    "    \"\"\"\n",
    "    # TODO: Implement Function\n",
    "    session.run(optimizer, feed_dict={x:feature_batch, y:label_batch, keep_prob:keep_probability})\n",
    "    \n",
    "\n",
    "\"\"\"\n",
    "DON'T MODIFY ANYTHING IN THIS CELL THAT IS BELOW THIS LINE\n",
    "\"\"\"\n",
    "tests.test_train_nn(train_neural_network)"
   ]
  },
  {
   "cell_type": "markdown",
   "metadata": {},
   "source": [
    "### Show Stats\n",
    "Implement the function `print_stats` to print loss and validation accuracy.  Use the global variables `valid_features` and `valid_labels` to calculate validation accuracy.  Use a keep probability of `1.0` to calculate the loss and validation accuracy."
   ]
  },
  {
   "cell_type": "code",
   "execution_count": 15,
   "metadata": {
    "collapsed": true
   },
   "outputs": [],
   "source": [
    "def print_stats(session, feature_batch, label_batch, cost, accuracy):\n",
    "    \"\"\"\n",
    "    Print information about loss and validation accuracy\n",
    "    : session: Current TensorFlow session\n",
    "    : feature_batch: Batch of Numpy image data\n",
    "    : label_batch: Batch of Numpy label data\n",
    "    : cost: TensorFlow cost function\n",
    "    : accuracy: TensorFlow accuracy function\n",
    "    \"\"\"\n",
    "    # TODO: Implement Function\n",
    "    keep_probability = 1.\n",
    "    cost = session.run(cost, feed_dict={x:feature_batch, y:label_batch, keep_prob:keep_probability})\n",
    "    accuracy = sess.run(accuracy, feed_dict={x: valid_features,y: valid_labels,keep_prob: keep_probability})\n",
    "    print('Loss: {:>10.4f} Validation Accuracy: {:.6f}'.format(cost,accuracy))"
   ]
  },
  {
   "cell_type": "markdown",
   "metadata": {},
   "source": [
    "### Hyperparameters\n",
    "Tune the following parameters:\n",
    "* Set `epochs` to the number of iterations until the network stops learning or start overfitting\n",
    "* Set `batch_size` to the highest number that your machine has memory for.  Most people set them to common sizes of memory:\n",
    " * 64\n",
    " * 128\n",
    " * 256\n",
    " * ...\n",
    "* Set `keep_probability` to the probability of keeping a node using dropout"
   ]
  },
  {
   "cell_type": "code",
   "execution_count": 20,
   "metadata": {
    "collapsed": true
   },
   "outputs": [],
   "source": [
    "# TODO: Tune Parameters\n",
    "epochs = 50\n",
    "batch_size = 32\n",
    "keep_probability = 0.8"
   ]
  },
  {
   "cell_type": "markdown",
   "metadata": {},
   "source": [
    "### Train on a Single CIFAR-10 Batch\n",
    "Instead of training the neural network on all the CIFAR-10 batches of data, let's use a single batch. This should save time while you iterate on the model to get a better accuracy.  Once the final validation accuracy is 50% or greater, run the model on all the data in the next section."
   ]
  },
  {
   "cell_type": "code",
   "execution_count": 23,
   "metadata": {},
   "outputs": [
    {
     "name": "stdout",
     "output_type": "stream",
     "text": [
      "Checking the Training on a Single Batch...\n",
      "Epoch  1, CIFAR-10 Batch 1:  Loss:     2.1126 Validation Accuracy: 0.389600\n",
      "Epoch  2, CIFAR-10 Batch 1:  Loss:     1.8718 Validation Accuracy: 0.423400\n",
      "Epoch  3, CIFAR-10 Batch 1:  Loss:     1.7339 Validation Accuracy: 0.443400\n",
      "Epoch  4, CIFAR-10 Batch 1:  Loss:     1.5127 Validation Accuracy: 0.468800\n",
      "Epoch  5, CIFAR-10 Batch 1:  Loss:     1.3138 Validation Accuracy: 0.490600\n",
      "Epoch  6, CIFAR-10 Batch 1:  Loss:     1.1049 Validation Accuracy: 0.486200\n",
      "Epoch  7, CIFAR-10 Batch 1:  Loss:     0.9292 Validation Accuracy: 0.499400\n",
      "Epoch  8, CIFAR-10 Batch 1:  Loss:     0.8260 Validation Accuracy: 0.505200\n",
      "Epoch  9, CIFAR-10 Batch 1:  Loss:     0.6034 Validation Accuracy: 0.517600\n",
      "Epoch 10, CIFAR-10 Batch 1:  Loss:     0.5697 Validation Accuracy: 0.521800\n",
      "Epoch 11, CIFAR-10 Batch 1:  Loss:     0.4025 Validation Accuracy: 0.519800\n",
      "Epoch 12, CIFAR-10 Batch 1:  Loss:     0.4119 Validation Accuracy: 0.523200\n",
      "Epoch 13, CIFAR-10 Batch 1:  Loss:     0.3129 Validation Accuracy: 0.527000\n",
      "Epoch 14, CIFAR-10 Batch 1:  Loss:     0.2436 Validation Accuracy: 0.523400\n",
      "Epoch 15, CIFAR-10 Batch 1:  Loss:     0.2143 Validation Accuracy: 0.526600\n",
      "Epoch 16, CIFAR-10 Batch 1:  Loss:     0.1249 Validation Accuracy: 0.520600\n",
      "Epoch 17, CIFAR-10 Batch 1:  Loss:     0.1544 Validation Accuracy: 0.514400\n",
      "Epoch 18, CIFAR-10 Batch 1:  Loss:     0.1127 Validation Accuracy: 0.517800\n",
      "Epoch 19, CIFAR-10 Batch 1:  Loss:     0.1050 Validation Accuracy: 0.519600\n",
      "Epoch 20, CIFAR-10 Batch 1:  Loss:     0.0945 Validation Accuracy: 0.529400\n",
      "Epoch 21, CIFAR-10 Batch 1:  Loss:     0.0748 Validation Accuracy: 0.520600\n",
      "Epoch 22, CIFAR-10 Batch 1:  Loss:     0.0629 Validation Accuracy: 0.513800\n",
      "Epoch 23, CIFAR-10 Batch 1:  Loss:     0.0692 Validation Accuracy: 0.513200\n",
      "Epoch 24, CIFAR-10 Batch 1:  Loss:     0.0593 Validation Accuracy: 0.515000\n",
      "Epoch 25, CIFAR-10 Batch 1:  Loss:     0.0782 Validation Accuracy: 0.521800\n",
      "Epoch 26, CIFAR-10 Batch 1:  Loss:     0.0517 Validation Accuracy: 0.512400\n",
      "Epoch 27, CIFAR-10 Batch 1:  Loss:     0.0491 Validation Accuracy: 0.518400\n",
      "Epoch 28, CIFAR-10 Batch 1:  Loss:     0.0634 Validation Accuracy: 0.505200\n",
      "Epoch 29, CIFAR-10 Batch 1:  Loss:     0.0540 Validation Accuracy: 0.521200\n",
      "Epoch 30, CIFAR-10 Batch 1:  Loss:     0.0808 Validation Accuracy: 0.517800\n",
      "Epoch 31, CIFAR-10 Batch 1:  Loss:     0.0629 Validation Accuracy: 0.515400\n",
      "Epoch 32, CIFAR-10 Batch 1:  Loss:     0.0178 Validation Accuracy: 0.519200\n",
      "Epoch 33, CIFAR-10 Batch 1:  Loss:     0.0184 Validation Accuracy: 0.517000\n",
      "Epoch 34, CIFAR-10 Batch 1:  Loss:     0.0505 Validation Accuracy: 0.513200\n",
      "Epoch 35, CIFAR-10 Batch 1:  Loss:     0.0613 Validation Accuracy: 0.513800\n",
      "Epoch 36, CIFAR-10 Batch 1:  Loss:     0.0339 Validation Accuracy: 0.517200\n",
      "Epoch 37, CIFAR-10 Batch 1:  Loss:     0.0389 Validation Accuracy: 0.513200\n",
      "Epoch 38, CIFAR-10 Batch 1:  Loss:     0.0166 Validation Accuracy: 0.522600\n",
      "Epoch 39, CIFAR-10 Batch 1:  Loss:     0.0265 Validation Accuracy: 0.513800\n",
      "Epoch 40, CIFAR-10 Batch 1:  Loss:     0.0231 Validation Accuracy: 0.508200\n",
      "Epoch 41, CIFAR-10 Batch 1:  Loss:     0.0442 Validation Accuracy: 0.505800\n",
      "Epoch 42, CIFAR-10 Batch 1:  Loss:     0.0244 Validation Accuracy: 0.503000\n",
      "Epoch 43, CIFAR-10 Batch 1:  Loss:     0.0971 Validation Accuracy: 0.503400\n",
      "Epoch 44, CIFAR-10 Batch 1:  Loss:     0.0376 Validation Accuracy: 0.510400\n",
      "Epoch 45, CIFAR-10 Batch 1:  Loss:     0.0361 Validation Accuracy: 0.496000\n",
      "Epoch 46, CIFAR-10 Batch 1:  Loss:     0.0136 Validation Accuracy: 0.504200\n",
      "Epoch 47, CIFAR-10 Batch 1:  Loss:     0.0223 Validation Accuracy: 0.494000\n",
      "Epoch 48, CIFAR-10 Batch 1:  Loss:     0.0111 Validation Accuracy: 0.498000\n",
      "Epoch 49, CIFAR-10 Batch 1:  Loss:     0.0165 Validation Accuracy: 0.504000\n",
      "Epoch 50, CIFAR-10 Batch 1:  Loss:     0.0028 Validation Accuracy: 0.501600\n"
     ]
    }
   ],
   "source": [
    "\"\"\"\n",
    "DON'T MODIFY ANYTHING IN THIS CELL\n",
    "\"\"\"\n",
    "print('Checking the Training on a Single Batch...')\n",
    "with tf.Session() as sess:\n",
    "    # Initializing the variables\n",
    "    sess.run(tf.global_variables_initializer())\n",
    "    \n",
    "    # Training cycle\n",
    "    for epoch in range(epochs):\n",
    "        batch_i = 1\n",
    "        for batch_features, batch_labels in helper.load_preprocess_training_batch(batch_i, batch_size):\n",
    "            train_neural_network(sess, optimizer, keep_probability, batch_features, batch_labels)\n",
    "        print('Epoch {:>2}, CIFAR-10 Batch {}:  '.format(epoch + 1, batch_i), end='')\n",
    "        print_stats(sess, batch_features, batch_labels, cost, accuracy)"
   ]
  },
  {
   "cell_type": "markdown",
   "metadata": {},
   "source": [
    "### Fully Train the Model\n",
    "Now that you got a good accuracy with a single CIFAR-10 batch, try it with all five batches."
   ]
  },
  {
   "cell_type": "code",
   "execution_count": 22,
   "metadata": {
    "scrolled": false
   },
   "outputs": [
    {
     "name": "stdout",
     "output_type": "stream",
     "text": [
      "Training...\n",
      "Epoch  1, CIFAR-10 Batch 1:  Loss:     1.7976 Validation Accuracy: 0.411000\n",
      "Epoch  1, CIFAR-10 Batch 2:  Loss:     1.3344 Validation Accuracy: 0.458800\n",
      "Epoch  1, CIFAR-10 Batch 3:  Loss:     0.9011 Validation Accuracy: 0.522800\n",
      "Epoch  1, CIFAR-10 Batch 4:  Loss:     1.5186 Validation Accuracy: 0.532000\n",
      "Epoch  1, CIFAR-10 Batch 5:  Loss:     1.4133 Validation Accuracy: 0.559600\n",
      "Epoch  2, CIFAR-10 Batch 1:  Loss:     1.1994 Validation Accuracy: 0.547600\n",
      "Epoch  2, CIFAR-10 Batch 2:  Loss:     1.0116 Validation Accuracy: 0.550800\n",
      "Epoch  2, CIFAR-10 Batch 3:  Loss:     0.6786 Validation Accuracy: 0.584600\n",
      "Epoch  2, CIFAR-10 Batch 4:  Loss:     1.2431 Validation Accuracy: 0.589200\n",
      "Epoch  2, CIFAR-10 Batch 5:  Loss:     1.1750 Validation Accuracy: 0.575800\n",
      "Epoch  3, CIFAR-10 Batch 1:  Loss:     0.7810 Validation Accuracy: 0.595000\n",
      "Epoch  3, CIFAR-10 Batch 2:  Loss:     0.9684 Validation Accuracy: 0.588400\n",
      "Epoch  3, CIFAR-10 Batch 3:  Loss:     0.4579 Validation Accuracy: 0.605600\n",
      "Epoch  3, CIFAR-10 Batch 4:  Loss:     1.1731 Validation Accuracy: 0.608200\n",
      "Epoch  3, CIFAR-10 Batch 5:  Loss:     1.0553 Validation Accuracy: 0.617800\n",
      "Epoch  4, CIFAR-10 Batch 1:  Loss:     0.9211 Validation Accuracy: 0.597200\n",
      "Epoch  4, CIFAR-10 Batch 2:  Loss:     0.7114 Validation Accuracy: 0.611600\n",
      "Epoch  4, CIFAR-10 Batch 3:  Loss:     0.4402 Validation Accuracy: 0.631800\n",
      "Epoch  4, CIFAR-10 Batch 4:  Loss:     0.9040 Validation Accuracy: 0.629800\n",
      "Epoch  4, CIFAR-10 Batch 5:  Loss:     0.7904 Validation Accuracy: 0.616600\n",
      "Epoch  5, CIFAR-10 Batch 1:  Loss:     0.6868 Validation Accuracy: 0.617800\n",
      "Epoch  5, CIFAR-10 Batch 2:  Loss:     0.6475 Validation Accuracy: 0.610400\n",
      "Epoch  5, CIFAR-10 Batch 3:  Loss:     0.3569 Validation Accuracy: 0.618800\n",
      "Epoch  5, CIFAR-10 Batch 4:  Loss:     0.6731 Validation Accuracy: 0.638000\n",
      "Epoch  5, CIFAR-10 Batch 5:  Loss:     0.9169 Validation Accuracy: 0.639800\n",
      "Epoch  6, CIFAR-10 Batch 1:  Loss:     0.5570 Validation Accuracy: 0.628800\n",
      "Epoch  6, CIFAR-10 Batch 2:  Loss:     0.4292 Validation Accuracy: 0.617000\n",
      "Epoch  6, CIFAR-10 Batch 3:  Loss:     0.4121 Validation Accuracy: 0.642400\n",
      "Epoch  6, CIFAR-10 Batch 4:  Loss:     0.5984 Validation Accuracy: 0.649000\n",
      "Epoch  6, CIFAR-10 Batch 5:  Loss:     0.7084 Validation Accuracy: 0.632400\n",
      "Epoch  7, CIFAR-10 Batch 1:  Loss:     0.3255 Validation Accuracy: 0.647000\n",
      "Epoch  7, CIFAR-10 Batch 2:  Loss:     0.2680 Validation Accuracy: 0.624400\n",
      "Epoch  7, CIFAR-10 Batch 3:  Loss:     0.3145 Validation Accuracy: 0.649400\n",
      "Epoch  7, CIFAR-10 Batch 4:  Loss:     0.4559 Validation Accuracy: 0.658800\n",
      "Epoch  7, CIFAR-10 Batch 5:  Loss:     0.7011 Validation Accuracy: 0.644000\n",
      "Epoch  8, CIFAR-10 Batch 1:  Loss:     0.3082 Validation Accuracy: 0.639400\n",
      "Epoch  8, CIFAR-10 Batch 2:  Loss:     0.2352 Validation Accuracy: 0.640400\n",
      "Epoch  8, CIFAR-10 Batch 3:  Loss:     0.3464 Validation Accuracy: 0.651000\n",
      "Epoch  8, CIFAR-10 Batch 4:  Loss:     0.4427 Validation Accuracy: 0.656600\n",
      "Epoch  8, CIFAR-10 Batch 5:  Loss:     0.5952 Validation Accuracy: 0.638000\n",
      "Epoch  9, CIFAR-10 Batch 1:  Loss:     0.2615 Validation Accuracy: 0.652400\n",
      "Epoch  9, CIFAR-10 Batch 2:  Loss:     0.2804 Validation Accuracy: 0.646200\n",
      "Epoch  9, CIFAR-10 Batch 3:  Loss:     0.3277 Validation Accuracy: 0.659200\n",
      "Epoch  9, CIFAR-10 Batch 4:  Loss:     0.3214 Validation Accuracy: 0.664400\n",
      "Epoch  9, CIFAR-10 Batch 5:  Loss:     0.4390 Validation Accuracy: 0.642800\n",
      "Epoch 10, CIFAR-10 Batch 1:  Loss:     0.2640 Validation Accuracy: 0.655200\n",
      "Epoch 10, CIFAR-10 Batch 2:  Loss:     0.3005 Validation Accuracy: 0.649800\n",
      "Epoch 10, CIFAR-10 Batch 3:  Loss:     0.3038 Validation Accuracy: 0.654200\n",
      "Epoch 10, CIFAR-10 Batch 4:  Loss:     0.3459 Validation Accuracy: 0.644800\n",
      "Epoch 10, CIFAR-10 Batch 5:  Loss:     0.5674 Validation Accuracy: 0.648000\n",
      "Epoch 11, CIFAR-10 Batch 1:  Loss:     0.2402 Validation Accuracy: 0.642000\n",
      "Epoch 11, CIFAR-10 Batch 2:  Loss:     0.2013 Validation Accuracy: 0.660400\n",
      "Epoch 11, CIFAR-10 Batch 3:  Loss:     0.1941 Validation Accuracy: 0.653200\n",
      "Epoch 11, CIFAR-10 Batch 4:  Loss:     0.3102 Validation Accuracy: 0.647800\n",
      "Epoch 11, CIFAR-10 Batch 5:  Loss:     0.5735 Validation Accuracy: 0.637600\n",
      "Epoch 12, CIFAR-10 Batch 1:  Loss:     0.2161 Validation Accuracy: 0.643400\n",
      "Epoch 12, CIFAR-10 Batch 2:  Loss:     0.0943 Validation Accuracy: 0.651800\n",
      "Epoch 12, CIFAR-10 Batch 3:  Loss:     0.1907 Validation Accuracy: 0.650400\n",
      "Epoch 12, CIFAR-10 Batch 4:  Loss:     0.2476 Validation Accuracy: 0.656000\n",
      "Epoch 12, CIFAR-10 Batch 5:  Loss:     0.4125 Validation Accuracy: 0.643600\n",
      "Epoch 13, CIFAR-10 Batch 1:  Loss:     0.2345 Validation Accuracy: 0.657400\n",
      "Epoch 13, CIFAR-10 Batch 2:  Loss:     0.0981 Validation Accuracy: 0.654000\n",
      "Epoch 13, CIFAR-10 Batch 3:  Loss:     0.3062 Validation Accuracy: 0.645800\n",
      "Epoch 13, CIFAR-10 Batch 4:  Loss:     0.2404 Validation Accuracy: 0.657000\n",
      "Epoch 13, CIFAR-10 Batch 5:  Loss:     0.3603 Validation Accuracy: 0.650600\n",
      "Epoch 14, CIFAR-10 Batch 1:  Loss:     0.1454 Validation Accuracy: 0.663800\n",
      "Epoch 14, CIFAR-10 Batch 2:  Loss:     0.1595 Validation Accuracy: 0.646800\n",
      "Epoch 14, CIFAR-10 Batch 3:  Loss:     0.2233 Validation Accuracy: 0.657400\n",
      "Epoch 14, CIFAR-10 Batch 4:  Loss:     0.2363 Validation Accuracy: 0.660000\n",
      "Epoch 14, CIFAR-10 Batch 5:  Loss:     0.4018 Validation Accuracy: 0.654800\n",
      "Epoch 15, CIFAR-10 Batch 1:  Loss:     0.1428 Validation Accuracy: 0.647200\n",
      "Epoch 15, CIFAR-10 Batch 2:  Loss:     0.0780 Validation Accuracy: 0.656400\n",
      "Epoch 15, CIFAR-10 Batch 3:  Loss:     0.1710 Validation Accuracy: 0.661000\n",
      "Epoch 15, CIFAR-10 Batch 4:  Loss:     0.1768 Validation Accuracy: 0.651800\n",
      "Epoch 15, CIFAR-10 Batch 5:  Loss:     0.4059 Validation Accuracy: 0.655800\n",
      "Epoch 16, CIFAR-10 Batch 1:  Loss:     0.2035 Validation Accuracy: 0.652400\n",
      "Epoch 16, CIFAR-10 Batch 2:  Loss:     0.0989 Validation Accuracy: 0.653600\n",
      "Epoch 16, CIFAR-10 Batch 3:  Loss:     0.2015 Validation Accuracy: 0.644400\n",
      "Epoch 16, CIFAR-10 Batch 4:  Loss:     0.1579 Validation Accuracy: 0.659200\n",
      "Epoch 16, CIFAR-10 Batch 5:  Loss:     0.2731 Validation Accuracy: 0.647800\n",
      "Epoch 17, CIFAR-10 Batch 1:  Loss:     0.1194 Validation Accuracy: 0.649600\n",
      "Epoch 17, CIFAR-10 Batch 2:  Loss:     0.0695 Validation Accuracy: 0.657600\n",
      "Epoch 17, CIFAR-10 Batch 3:  Loss:     0.2200 Validation Accuracy: 0.657200\n",
      "Epoch 17, CIFAR-10 Batch 4:  Loss:     0.2233 Validation Accuracy: 0.658200\n",
      "Epoch 17, CIFAR-10 Batch 5:  Loss:     0.2423 Validation Accuracy: 0.660400\n",
      "Epoch 18, CIFAR-10 Batch 1:  Loss:     0.0783 Validation Accuracy: 0.660800\n",
      "Epoch 18, CIFAR-10 Batch 2:  Loss:     0.0658 Validation Accuracy: 0.647000\n",
      "Epoch 18, CIFAR-10 Batch 3:  Loss:     0.1309 Validation Accuracy: 0.664200\n",
      "Epoch 18, CIFAR-10 Batch 4:  Loss:     0.1235 Validation Accuracy: 0.649800\n",
      "Epoch 18, CIFAR-10 Batch 5:  Loss:     0.3566 Validation Accuracy: 0.648000\n",
      "Epoch 19, CIFAR-10 Batch 1:  Loss:     0.1963 Validation Accuracy: 0.648400\n",
      "Epoch 19, CIFAR-10 Batch 2:  Loss:     0.0815 Validation Accuracy: 0.653000\n",
      "Epoch 19, CIFAR-10 Batch 3:  Loss:     0.1978 Validation Accuracy: 0.646400\n",
      "Epoch 19, CIFAR-10 Batch 4:  Loss:     0.1417 Validation Accuracy: 0.654800\n",
      "Epoch 19, CIFAR-10 Batch 5:  Loss:     0.1987 Validation Accuracy: 0.654400\n",
      "Epoch 20, CIFAR-10 Batch 1:  Loss:     0.1166 Validation Accuracy: 0.654200\n",
      "Epoch 20, CIFAR-10 Batch 2:  Loss:     0.0484 Validation Accuracy: 0.648600\n",
      "Epoch 20, CIFAR-10 Batch 3:  Loss:     0.1338 Validation Accuracy: 0.648800\n",
      "Epoch 20, CIFAR-10 Batch 4:  Loss:     0.1394 Validation Accuracy: 0.655200\n",
      "Epoch 20, CIFAR-10 Batch 5:  Loss:     0.2375 Validation Accuracy: 0.648600\n",
      "Epoch 21, CIFAR-10 Batch 1:  Loss:     0.1251 Validation Accuracy: 0.644200\n",
      "Epoch 21, CIFAR-10 Batch 2:  Loss:     0.0846 Validation Accuracy: 0.648600\n",
      "Epoch 21, CIFAR-10 Batch 3:  Loss:     0.1595 Validation Accuracy: 0.660200\n",
      "Epoch 21, CIFAR-10 Batch 4:  Loss:     0.1550 Validation Accuracy: 0.647800\n",
      "Epoch 21, CIFAR-10 Batch 5:  Loss:     0.2192 Validation Accuracy: 0.649000\n",
      "Epoch 22, CIFAR-10 Batch 1:  Loss:     0.1384 Validation Accuracy: 0.654200\n",
      "Epoch 22, CIFAR-10 Batch 2:  Loss:     0.0413 Validation Accuracy: 0.646000\n",
      "Epoch 22, CIFAR-10 Batch 3:  Loss:     0.1112 Validation Accuracy: 0.657800\n"
     ]
    },
    {
     "name": "stdout",
     "output_type": "stream",
     "text": [
      "Epoch 22, CIFAR-10 Batch 4:  Loss:     0.1094 Validation Accuracy: 0.660800\n",
      "Epoch 22, CIFAR-10 Batch 5:  Loss:     0.2216 Validation Accuracy: 0.648600\n",
      "Epoch 23, CIFAR-10 Batch 1:  Loss:     0.0592 Validation Accuracy: 0.650200\n",
      "Epoch 23, CIFAR-10 Batch 2:  Loss:     0.0949 Validation Accuracy: 0.652600\n",
      "Epoch 23, CIFAR-10 Batch 3:  Loss:     0.1307 Validation Accuracy: 0.656600\n",
      "Epoch 23, CIFAR-10 Batch 4:  Loss:     0.1140 Validation Accuracy: 0.652000\n",
      "Epoch 23, CIFAR-10 Batch 5:  Loss:     0.1232 Validation Accuracy: 0.653200\n",
      "Epoch 24, CIFAR-10 Batch 1:  Loss:     0.0705 Validation Accuracy: 0.642800\n",
      "Epoch 24, CIFAR-10 Batch 2:  Loss:     0.0297 Validation Accuracy: 0.661600\n",
      "Epoch 24, CIFAR-10 Batch 3:  Loss:     0.0789 Validation Accuracy: 0.652000\n",
      "Epoch 24, CIFAR-10 Batch 4:  Loss:     0.1584 Validation Accuracy: 0.654200\n",
      "Epoch 24, CIFAR-10 Batch 5:  Loss:     0.1397 Validation Accuracy: 0.651800\n",
      "Epoch 25, CIFAR-10 Batch 1:  Loss:     0.0940 Validation Accuracy: 0.662800\n",
      "Epoch 25, CIFAR-10 Batch 2:  Loss:     0.0362 Validation Accuracy: 0.651800\n",
      "Epoch 25, CIFAR-10 Batch 3:  Loss:     0.0944 Validation Accuracy: 0.649200\n",
      "Epoch 25, CIFAR-10 Batch 4:  Loss:     0.1031 Validation Accuracy: 0.652600\n",
      "Epoch 25, CIFAR-10 Batch 5:  Loss:     0.2037 Validation Accuracy: 0.633600\n",
      "Epoch 26, CIFAR-10 Batch 1:  Loss:     0.1034 Validation Accuracy: 0.647400\n",
      "Epoch 26, CIFAR-10 Batch 2:  Loss:     0.0429 Validation Accuracy: 0.648600\n",
      "Epoch 26, CIFAR-10 Batch 3:  Loss:     0.0989 Validation Accuracy: 0.655200\n",
      "Epoch 26, CIFAR-10 Batch 4:  Loss:     0.1244 Validation Accuracy: 0.641400\n",
      "Epoch 26, CIFAR-10 Batch 5:  Loss:     0.2171 Validation Accuracy: 0.653400\n",
      "Epoch 27, CIFAR-10 Batch 1:  Loss:     0.1186 Validation Accuracy: 0.651000\n",
      "Epoch 27, CIFAR-10 Batch 2:  Loss:     0.0330 Validation Accuracy: 0.657800\n",
      "Epoch 27, CIFAR-10 Batch 3:  Loss:     0.1319 Validation Accuracy: 0.641800\n",
      "Epoch 27, CIFAR-10 Batch 4:  Loss:     0.0749 Validation Accuracy: 0.645400\n",
      "Epoch 27, CIFAR-10 Batch 5:  Loss:     0.1209 Validation Accuracy: 0.650600\n",
      "Epoch 28, CIFAR-10 Batch 1:  Loss:     0.0418 Validation Accuracy: 0.650200\n",
      "Epoch 28, CIFAR-10 Batch 2:  Loss:     0.0247 Validation Accuracy: 0.654000\n",
      "Epoch 28, CIFAR-10 Batch 3:  Loss:     0.1570 Validation Accuracy: 0.639000\n",
      "Epoch 28, CIFAR-10 Batch 4:  Loss:     0.0715 Validation Accuracy: 0.639200\n",
      "Epoch 28, CIFAR-10 Batch 5:  Loss:     0.1444 Validation Accuracy: 0.649200\n",
      "Epoch 29, CIFAR-10 Batch 1:  Loss:     0.0458 Validation Accuracy: 0.648600\n",
      "Epoch 29, CIFAR-10 Batch 2:  Loss:     0.0243 Validation Accuracy: 0.656600\n",
      "Epoch 29, CIFAR-10 Batch 3:  Loss:     0.0973 Validation Accuracy: 0.638200\n",
      "Epoch 29, CIFAR-10 Batch 4:  Loss:     0.0799 Validation Accuracy: 0.651800\n",
      "Epoch 29, CIFAR-10 Batch 5:  Loss:     0.1283 Validation Accuracy: 0.648200\n",
      "Epoch 30, CIFAR-10 Batch 1:  Loss:     0.0421 Validation Accuracy: 0.646400\n",
      "Epoch 30, CIFAR-10 Batch 2:  Loss:     0.0354 Validation Accuracy: 0.639200\n",
      "Epoch 30, CIFAR-10 Batch 3:  Loss:     0.2345 Validation Accuracy: 0.631600\n",
      "Epoch 30, CIFAR-10 Batch 4:  Loss:     0.0930 Validation Accuracy: 0.634200\n",
      "Epoch 30, CIFAR-10 Batch 5:  Loss:     0.1244 Validation Accuracy: 0.659000\n",
      "Epoch 31, CIFAR-10 Batch 1:  Loss:     0.0437 Validation Accuracy: 0.650000\n",
      "Epoch 31, CIFAR-10 Batch 2:  Loss:     0.0513 Validation Accuracy: 0.649800\n",
      "Epoch 31, CIFAR-10 Batch 3:  Loss:     0.0790 Validation Accuracy: 0.648600\n",
      "Epoch 31, CIFAR-10 Batch 4:  Loss:     0.0807 Validation Accuracy: 0.658800\n",
      "Epoch 31, CIFAR-10 Batch 5:  Loss:     0.1051 Validation Accuracy: 0.656600\n",
      "Epoch 32, CIFAR-10 Batch 1:  Loss:     0.0500 Validation Accuracy: 0.644000\n",
      "Epoch 32, CIFAR-10 Batch 2:  Loss:     0.0185 Validation Accuracy: 0.648400\n",
      "Epoch 32, CIFAR-10 Batch 3:  Loss:     0.1394 Validation Accuracy: 0.644200\n",
      "Epoch 32, CIFAR-10 Batch 4:  Loss:     0.0896 Validation Accuracy: 0.655000\n",
      "Epoch 32, CIFAR-10 Batch 5:  Loss:     0.0577 Validation Accuracy: 0.648800\n",
      "Epoch 33, CIFAR-10 Batch 1:  Loss:     0.0857 Validation Accuracy: 0.643800\n",
      "Epoch 33, CIFAR-10 Batch 2:  Loss:     0.0600 Validation Accuracy: 0.645200\n",
      "Epoch 33, CIFAR-10 Batch 3:  Loss:     0.1082 Validation Accuracy: 0.645000\n",
      "Epoch 33, CIFAR-10 Batch 4:  Loss:     0.0665 Validation Accuracy: 0.647200\n",
      "Epoch 33, CIFAR-10 Batch 5:  Loss:     0.0969 Validation Accuracy: 0.652800\n",
      "Epoch 34, CIFAR-10 Batch 1:  Loss:     0.0572 Validation Accuracy: 0.643400\n",
      "Epoch 34, CIFAR-10 Batch 2:  Loss:     0.0289 Validation Accuracy: 0.650200\n",
      "Epoch 34, CIFAR-10 Batch 3:  Loss:     0.0916 Validation Accuracy: 0.645800\n",
      "Epoch 34, CIFAR-10 Batch 4:  Loss:     0.0672 Validation Accuracy: 0.653800\n",
      "Epoch 34, CIFAR-10 Batch 5:  Loss:     0.0965 Validation Accuracy: 0.647600\n",
      "Epoch 35, CIFAR-10 Batch 1:  Loss:     0.0208 Validation Accuracy: 0.641000\n",
      "Epoch 35, CIFAR-10 Batch 2:  Loss:     0.0587 Validation Accuracy: 0.645200\n",
      "Epoch 35, CIFAR-10 Batch 3:  Loss:     0.1159 Validation Accuracy: 0.648000\n",
      "Epoch 35, CIFAR-10 Batch 4:  Loss:     0.0791 Validation Accuracy: 0.651400\n",
      "Epoch 35, CIFAR-10 Batch 5:  Loss:     0.0831 Validation Accuracy: 0.652200\n",
      "Epoch 36, CIFAR-10 Batch 1:  Loss:     0.0604 Validation Accuracy: 0.651600\n",
      "Epoch 36, CIFAR-10 Batch 2:  Loss:     0.0121 Validation Accuracy: 0.649400\n",
      "Epoch 36, CIFAR-10 Batch 3:  Loss:     0.1041 Validation Accuracy: 0.642000\n",
      "Epoch 36, CIFAR-10 Batch 4:  Loss:     0.0660 Validation Accuracy: 0.650000\n",
      "Epoch 36, CIFAR-10 Batch 5:  Loss:     0.0646 Validation Accuracy: 0.656200\n",
      "Epoch 37, CIFAR-10 Batch 1:  Loss:     0.0273 Validation Accuracy: 0.648600\n",
      "Epoch 37, CIFAR-10 Batch 2:  Loss:     0.0210 Validation Accuracy: 0.650200\n",
      "Epoch 37, CIFAR-10 Batch 3:  Loss:     0.0945 Validation Accuracy: 0.659000\n",
      "Epoch 37, CIFAR-10 Batch 4:  Loss:     0.0632 Validation Accuracy: 0.651400\n",
      "Epoch 37, CIFAR-10 Batch 5:  Loss:     0.0855 Validation Accuracy: 0.652800\n",
      "Epoch 38, CIFAR-10 Batch 1:  Loss:     0.0347 Validation Accuracy: 0.646200\n",
      "Epoch 38, CIFAR-10 Batch 2:  Loss:     0.0286 Validation Accuracy: 0.642400\n",
      "Epoch 38, CIFAR-10 Batch 3:  Loss:     0.1297 Validation Accuracy: 0.648600\n",
      "Epoch 38, CIFAR-10 Batch 4:  Loss:     0.0872 Validation Accuracy: 0.642000\n",
      "Epoch 38, CIFAR-10 Batch 5:  Loss:     0.1405 Validation Accuracy: 0.654800\n",
      "Epoch 39, CIFAR-10 Batch 1:  Loss:     0.0730 Validation Accuracy: 0.640600\n",
      "Epoch 39, CIFAR-10 Batch 2:  Loss:     0.0509 Validation Accuracy: 0.645200\n",
      "Epoch 39, CIFAR-10 Batch 3:  Loss:     0.1060 Validation Accuracy: 0.638600\n",
      "Epoch 39, CIFAR-10 Batch 4:  Loss:     0.0666 Validation Accuracy: 0.656000\n",
      "Epoch 39, CIFAR-10 Batch 5:  Loss:     0.0834 Validation Accuracy: 0.650400\n",
      "Epoch 40, CIFAR-10 Batch 1:  Loss:     0.0342 Validation Accuracy: 0.641600\n",
      "Epoch 40, CIFAR-10 Batch 2:  Loss:     0.0112 Validation Accuracy: 0.644000\n",
      "Epoch 40, CIFAR-10 Batch 3:  Loss:     0.0693 Validation Accuracy: 0.633600\n",
      "Epoch 40, CIFAR-10 Batch 4:  Loss:     0.0606 Validation Accuracy: 0.646200\n",
      "Epoch 40, CIFAR-10 Batch 5:  Loss:     0.0788 Validation Accuracy: 0.654600\n",
      "Epoch 41, CIFAR-10 Batch 1:  Loss:     0.1356 Validation Accuracy: 0.648000\n",
      "Epoch 41, CIFAR-10 Batch 2:  Loss:     0.0178 Validation Accuracy: 0.646400\n",
      "Epoch 41, CIFAR-10 Batch 3:  Loss:     0.1144 Validation Accuracy: 0.641600\n",
      "Epoch 41, CIFAR-10 Batch 4:  Loss:     0.0839 Validation Accuracy: 0.646200\n",
      "Epoch 41, CIFAR-10 Batch 5:  Loss:     0.0859 Validation Accuracy: 0.657400\n",
      "Epoch 42, CIFAR-10 Batch 1:  Loss:     0.0702 Validation Accuracy: 0.638400\n",
      "Epoch 42, CIFAR-10 Batch 2:  Loss:     0.0602 Validation Accuracy: 0.644000\n",
      "Epoch 42, CIFAR-10 Batch 3:  Loss:     0.0645 Validation Accuracy: 0.645600\n",
      "Epoch 42, CIFAR-10 Batch 4:  Loss:     0.0477 Validation Accuracy: 0.651800\n",
      "Epoch 42, CIFAR-10 Batch 5:  Loss:     0.0906 Validation Accuracy: 0.653800\n",
      "Epoch 43, CIFAR-10 Batch 1:  Loss:     0.0209 Validation Accuracy: 0.631400\n",
      "Epoch 43, CIFAR-10 Batch 2:  Loss:     0.0094 Validation Accuracy: 0.646400\n",
      "Epoch 43, CIFAR-10 Batch 3:  Loss:     0.0706 Validation Accuracy: 0.628000\n",
      "Epoch 43, CIFAR-10 Batch 4:  Loss:     0.0872 Validation Accuracy: 0.645000\n",
      "Epoch 43, CIFAR-10 Batch 5:  Loss:     0.0759 Validation Accuracy: 0.657200\n",
      "Epoch 44, CIFAR-10 Batch 1:  Loss:     0.0308 Validation Accuracy: 0.644200\n"
     ]
    },
    {
     "name": "stdout",
     "output_type": "stream",
     "text": [
      "Epoch 44, CIFAR-10 Batch 2:  Loss:     0.0104 Validation Accuracy: 0.643800\n",
      "Epoch 44, CIFAR-10 Batch 3:  Loss:     0.0861 Validation Accuracy: 0.640200\n",
      "Epoch 44, CIFAR-10 Batch 4:  Loss:     0.1168 Validation Accuracy: 0.633600\n",
      "Epoch 44, CIFAR-10 Batch 5:  Loss:     0.0609 Validation Accuracy: 0.653800\n",
      "Epoch 45, CIFAR-10 Batch 1:  Loss:     0.0112 Validation Accuracy: 0.647800\n",
      "Epoch 45, CIFAR-10 Batch 2:  Loss:     0.0434 Validation Accuracy: 0.640000\n",
      "Epoch 45, CIFAR-10 Batch 3:  Loss:     0.0745 Validation Accuracy: 0.640200\n",
      "Epoch 45, CIFAR-10 Batch 4:  Loss:     0.0506 Validation Accuracy: 0.648600\n",
      "Epoch 45, CIFAR-10 Batch 5:  Loss:     0.0876 Validation Accuracy: 0.646800\n",
      "Epoch 46, CIFAR-10 Batch 1:  Loss:     0.0207 Validation Accuracy: 0.636600\n",
      "Epoch 46, CIFAR-10 Batch 2:  Loss:     0.0172 Validation Accuracy: 0.650200\n",
      "Epoch 46, CIFAR-10 Batch 3:  Loss:     0.0826 Validation Accuracy: 0.639000\n",
      "Epoch 46, CIFAR-10 Batch 4:  Loss:     0.1079 Validation Accuracy: 0.635800\n",
      "Epoch 46, CIFAR-10 Batch 5:  Loss:     0.0695 Validation Accuracy: 0.653600\n",
      "Epoch 47, CIFAR-10 Batch 1:  Loss:     0.0135 Validation Accuracy: 0.639000\n",
      "Epoch 47, CIFAR-10 Batch 2:  Loss:     0.0531 Validation Accuracy: 0.640800\n",
      "Epoch 47, CIFAR-10 Batch 3:  Loss:     0.0538 Validation Accuracy: 0.645400\n",
      "Epoch 47, CIFAR-10 Batch 4:  Loss:     0.0809 Validation Accuracy: 0.642800\n",
      "Epoch 47, CIFAR-10 Batch 5:  Loss:     0.0479 Validation Accuracy: 0.655600\n",
      "Epoch 48, CIFAR-10 Batch 1:  Loss:     0.0251 Validation Accuracy: 0.643000\n",
      "Epoch 48, CIFAR-10 Batch 2:  Loss:     0.0118 Validation Accuracy: 0.655000\n",
      "Epoch 48, CIFAR-10 Batch 3:  Loss:     0.0796 Validation Accuracy: 0.629400\n",
      "Epoch 48, CIFAR-10 Batch 4:  Loss:     0.0429 Validation Accuracy: 0.628600\n",
      "Epoch 48, CIFAR-10 Batch 5:  Loss:     0.0830 Validation Accuracy: 0.655600\n",
      "Epoch 49, CIFAR-10 Batch 1:  Loss:     0.0226 Validation Accuracy: 0.633800\n",
      "Epoch 49, CIFAR-10 Batch 2:  Loss:     0.0130 Validation Accuracy: 0.654800\n",
      "Epoch 49, CIFAR-10 Batch 3:  Loss:     0.0767 Validation Accuracy: 0.641200\n",
      "Epoch 49, CIFAR-10 Batch 4:  Loss:     0.0594 Validation Accuracy: 0.644200\n",
      "Epoch 49, CIFAR-10 Batch 5:  Loss:     0.0568 Validation Accuracy: 0.655000\n",
      "Epoch 50, CIFAR-10 Batch 1:  Loss:     0.0558 Validation Accuracy: 0.644000\n",
      "Epoch 50, CIFAR-10 Batch 2:  Loss:     0.0184 Validation Accuracy: 0.641600\n",
      "Epoch 50, CIFAR-10 Batch 3:  Loss:     0.0834 Validation Accuracy: 0.648200\n",
      "Epoch 50, CIFAR-10 Batch 4:  Loss:     0.0753 Validation Accuracy: 0.637800\n",
      "Epoch 50, CIFAR-10 Batch 5:  Loss:     0.0438 Validation Accuracy: 0.653800\n"
     ]
    }
   ],
   "source": [
    "\"\"\"\n",
    "DON'T MODIFY ANYTHING IN THIS CELL\n",
    "\"\"\"\n",
    "save_model_path = './image_classification'\n",
    "\n",
    "print('Training...')\n",
    "with tf.Session() as sess:\n",
    "    # Initializing the variables\n",
    "    sess.run(tf.global_variables_initializer())\n",
    "    \n",
    "    # Training cycle\n",
    "    for epoch in range(epochs):\n",
    "        # Loop over all batches\n",
    "        n_batches = 5\n",
    "        for batch_i in range(1, n_batches + 1):\n",
    "            for batch_features, batch_labels in helper.load_preprocess_training_batch(batch_i, batch_size):\n",
    "                train_neural_network(sess, optimizer, keep_probability, batch_features, batch_labels)\n",
    "            print('Epoch {:>2}, CIFAR-10 Batch {}:  '.format(epoch + 1, batch_i), end='')\n",
    "            print_stats(sess, batch_features, batch_labels, cost, accuracy)\n",
    "            \n",
    "    # Save Model\n",
    "    saver = tf.train.Saver()\n",
    "    save_path = saver.save(sess, save_model_path)"
   ]
  },
  {
   "cell_type": "markdown",
   "metadata": {},
   "source": [
    "# Checkpoint\n",
    "The model has been saved to disk.\n",
    "## Test Model\n",
    "Test your model against the test dataset.  This will be your final accuracy. You should have an accuracy greater than 50%. If you don't, keep tweaking the model architecture and parameters."
   ]
  },
  {
   "cell_type": "code",
   "execution_count": 24,
   "metadata": {},
   "outputs": [
    {
     "name": "stdout",
     "output_type": "stream",
     "text": [
      "INFO:tensorflow:Restoring parameters from ./image_classification\n",
      "Testing Accuracy: 0.6465654952076677\n",
      "\n"
     ]
    },
    {
     "data": {
      "image/png": "[encoded data removed]",
      "text/plain": [
       "<matplotlib.figure.Figure at 0x7f28a8bd02e8>"
      ]
     },
     "metadata": {
      "image/png": {
       "height": 319,
       "width": 355
      }
     },
     "output_type": "display_data"
    }
   ],
   "source": [
    "\"\"\"\n",
    "DON'T MODIFY ANYTHING IN THIS CELL\n",
    "\"\"\"\n",
    "%matplotlib inline\n",
    "%config InlineBackend.figure_format = 'retina'\n",
    "\n",
    "import tensorflow as tf\n",
    "import pickle\n",
    "import helper\n",
    "import random\n",
    "\n",
    "# Set batch size if not already set\n",
    "try:\n",
    "    if batch_size:\n",
    "        pass\n",
    "except NameError:\n",
    "    batch_size = 64\n",
    "\n",
    "save_model_path = './image_classification'\n",
    "n_samples = 4\n",
    "top_n_predictions = 3\n",
    "\n",
    "def test_model():\n",
    "    \"\"\"\n",
    "    Test the saved model against the test dataset\n",
    "    \"\"\"\n",
    "\n",
    "    test_features, test_labels = pickle.load(open('preprocess_test.p', mode='rb'))\n",
    "    loaded_graph = tf.Graph()\n",
    "\n",
    "    with tf.Session(graph=loaded_graph) as sess:\n",
    "        # Load model\n",
    "        loader = tf.train.import_meta_graph(save_model_path + '.meta')\n",
    "        loader.restore(sess, save_model_path)\n",
    "\n",
    "        # Get Tensors from loaded model\n",
    "        loaded_x = loaded_graph.get_tensor_by_name('x:0')\n",
    "        loaded_y = loaded_graph.get_tensor_by_name('y:0')\n",
    "        loaded_keep_prob = loaded_graph.get_tensor_by_name('keep_prob:0')\n",
    "        loaded_logits = loaded_graph.get_tensor_by_name('logits:0')\n",
    "        loaded_acc = loaded_graph.get_tensor_by_name('accuracy:0')\n",
    "        \n",
    "        # Get accuracy in batches for memory limitations\n",
    "        test_batch_acc_total = 0\n",
    "        test_batch_count = 0\n",
    "        \n",
    "        for test_feature_batch, test_label_batch in helper.batch_features_labels(test_features, test_labels, batch_size):\n",
    "            test_batch_acc_total += sess.run(\n",
    "                loaded_acc,\n",
    "                feed_dict={loaded_x: test_feature_batch, loaded_y: test_label_batch, loaded_keep_prob: 1.0})\n",
    "            test_batch_count += 1\n",
    "\n",
    "        print('Testing Accuracy: {}\\n'.format(test_batch_acc_total/test_batch_count))\n",
    "\n",
    "        # Print Random Samples\n",
    "        random_test_features, random_test_labels = tuple(zip(*random.sample(list(zip(test_features, test_labels)), n_samples)))\n",
    "        random_test_predictions = sess.run(\n",
    "            tf.nn.top_k(tf.nn.softmax(loaded_logits), top_n_predictions),\n",
    "            feed_dict={loaded_x: random_test_features, loaded_y: random_test_labels, loaded_keep_prob: 1.0})\n",
    "        helper.display_image_predictions(random_test_features, random_test_labels, random_test_predictions)\n",
    "\n",
    "\n",
    "test_model()"
   ]
  },
  {
   "cell_type": "markdown",
   "metadata": {},
   "source": [
    "## Why 50-80% Accuracy?\n",
    "You might be wondering why you can't get an accuracy any higher. First things first, 50% isn't bad for a simple CNN.  Pure guessing would get you 10% accuracy. However, you might notice people are getting scores [well above 80%](http://rodrigob.github.io/are_we_there_yet/build/classification_datasets_results.html#43494641522d3130).  That's because we haven't taught you all there is to know about neural networks. We still need to cover a few more techniques.\n",
    "## Submitting This Project\n",
    "When submitting this project, make sure to run all the cells before saving the notebook.  Save the notebook file as \"dlnd_image_classification.ipynb\" and save it as a HTML file under \"File\" -> \"Download as\".  Include the \"helper.py\" and \"problem_unittests.py\" files in your submission."
   ]
  }
 ],
 "metadata": {
  "kernelspec": {
   "display_name": "Python 3",
   "language": "python",
   "name": "python3"
  },
  "language_info": {
   "codemirror_mode": {
    "name": "ipython",
    "version": 3
   },
   "file_extension": ".py",
   "mimetype": "text/x-python",
   "name": "python",
   "nbconvert_exporter": "python",
   "pygments_lexer": "ipython3",
   "version": "3.5.4"
  }
 },
 "nbformat": 4,
 "nbformat_minor": 1
}
